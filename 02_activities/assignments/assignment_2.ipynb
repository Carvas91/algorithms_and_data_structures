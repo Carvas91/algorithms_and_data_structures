{
 "cells": [
  {
   "cell_type": "markdown",
   "metadata": {},
   "source": [
    "# Practice Interview\n",
    "\n",
    "## Objective\n",
    "\n",
    "_*The partner assignment aims to provide participants with the opportunity to practice coding in an interview context. You will analyze your partner's Assignment 1. Moreover, code reviews are common practice in a software development team. This assignment should give you a taste of the code review process.*_\n",
    "\n",
    "## Group Size\n",
    "\n",
    "Each group should have 2 people. You will be assigned a partner\n",
    "\n",
    "## Part 1:\n",
    "\n",
    "You and your partner must share each other's Assignment 1 submission."
   ]
  },
  {
   "cell_type": "markdown",
   "metadata": {},
   "source": [
    "\n",
    "## Part 2:\n",
    "\n",
    "Create a Jupyter Notebook, create 6 of the following headings, and complete the following for your partner's assignment 1:\n",
    "\n",
    "-   Paraphrase the problem in your own words.\n"
   ]
  },
  {
   "cell_type": "code",
   "execution_count": null,
   "metadata": {},
   "outputs": [],
   "source": [
    "# Your answer here"
   ]
  },
  {
   "cell_type": "markdown",
   "metadata": {},
   "source": [
    "Given the root of a binary tree, I need to find all possible paths from the root to each leaf. The function should return a list of these paths in any order (a list of lists)."
   ]
  },
  {
   "cell_type": "markdown",
   "metadata": {},
   "source": [
    "\n",
    "-   Create 1 new example that demonstrates you understand the problem. Trace/walkthrough 1 example that your partner made and explain it.\n"
   ]
  },
  {
   "cell_type": "code",
   "execution_count": null,
   "metadata": {},
   "outputs": [],
   "source": [
    "# Your answer here\n",
    "#Graphical representation of the tree (my example)\n",
    "#      1\n",
    "#     / \\\n",
    "#    2   3\n",
    "#   / \\\n",
    "#  4   5\n",
    "\n",
    "#input = [1,2,3,4,5]\n",
    "#output = [[1,2,4],[1,2,5],[1,3]]"
   ]
  },
  {
   "cell_type": "code",
   "execution_count": 1,
   "metadata": {},
   "outputs": [
    {
     "data": {
      "text/plain": [
       "'The root node of the tree is 4, and the algorithm does a \\ndepth-first search to find the leaf nodes.'"
      ]
     },
     "execution_count": 1,
     "metadata": {},
     "output_type": "execute_result"
    }
   ],
   "source": [
    "#Explanation of my partner's example\n",
    "# input = [4,9,None,1,5]\n",
    "# output = [[4,9,1],[4,9,5]]\n",
    "\n",
    "#Graphical representation of the tree (my partner's example)\n",
    "#       4\n",
    "#      / \\\n",
    "#     9   None\n",
    "#    / \\\n",
    "#   1   5  \n",
    "\n",
    "#Explanation:\n",
    "'''The root node of the tree is 4, and the algorithm does a \n",
    "depth-first search to find the leaf nodes.'''\n"
   ]
  },
  {
   "cell_type": "markdown",
   "metadata": {},
   "source": [
    "\n",
    "-   Copy the solution your partner wrote. \n"
   ]
  },
  {
   "cell_type": "code",
   "execution_count": 2,
   "metadata": {},
   "outputs": [
    {
     "name": "stdout",
     "output_type": "stream",
     "text": [
      "[[1, 2, 5], [1, 3]]\n",
      "[[4, 9, 1], [4, 9, 5]]\n"
     ]
    }
   ],
   "source": [
    "# Your answer here\n",
    "\n",
    "from typing import List, Optional\n",
    "\n",
    "class TreeNode:\n",
    "    def __init__(self, val=0, left=None, right=None):\n",
    "        self.val = val\n",
    "        self.left = left\n",
    "        self.right = right\n",
    "\n",
    "\n",
    "def dfs(node: Optional[TreeNode], path: List[int], result: List[List[int]]):\n",
    "    if not node:\n",
    "        return\n",
    "\n",
    "    path.append(node.val)\n",
    "\n",
    "    if not node.left and not node.right:  # If it's a leaf node\n",
    "        result.append(path[:])  # Add a copy of the path\n",
    "\n",
    "    dfs(node.left, path, result)\n",
    "    dfs(node.right, path, result)\n",
    "\n",
    "    path.pop()  # Backtrack\n",
    "\n",
    "\n",
    "def bt_path(root: Optional[TreeNode]) -> List[List[int]]:\n",
    "    if not root:\n",
    "        return []\n",
    "\n",
    "    result = []\n",
    "    dfs(root, [], result)\n",
    "    return result\n",
    "\n",
    "\n",
    "# Example Test Cases:\n",
    "# Example 1\n",
    "root1 = TreeNode(1)\n",
    "root1.left = TreeNode(2)\n",
    "root1.right = TreeNode(3)\n",
    "root1.left.right = TreeNode(5)\n",
    "\n",
    "print(bt_path(root1))  # Expected Output: [[1, 2, 5], [1, 3]]\n",
    "\n",
    "# Example 2\n",
    "root2 = TreeNode(4)\n",
    "root2.left = TreeNode(9)\n",
    "root2.left.left = TreeNode(1)\n",
    "root2.left.right = TreeNode(5)\n",
    "\n",
    "print(bt_path(root2))  # Expected Output: [[4, 9, 1], [4, 9, 5]]"
   ]
  },
  {
   "cell_type": "markdown",
   "metadata": {},
   "source": [
    "\n",
    "-   Explain why their solution works in your own words.\n"
   ]
  },
  {
   "cell_type": "code",
   "execution_count": null,
   "metadata": {},
   "outputs": [],
   "source": [
    "# Your answer here"
   ]
  },
  {
   "cell_type": "markdown",
   "metadata": {},
   "source": [
    "This solution works because it uses Depth-First Search (DFS) to explore all possible paths from the root.  \n",
    "It's recursive as it has a helper function, dfs. This helper function recursively traverses the tree, adding node values to path.  \n",
    "When a leaf node is reached, the current path is added to result. After processing a node, path.pop() is used to backtrack, ensuring the next path is recorded correctly. The bt_path function initializes the process and returns all root-to-leaf paths.\n"
   ]
  },
  {
   "cell_type": "markdown",
   "metadata": {},
   "source": [
    "\n",
    "-   Explain the problem’s time and space complexity in your own words.\n"
   ]
  },
  {
   "cell_type": "code",
   "execution_count": 4,
   "metadata": {},
   "outputs": [
    {
     "data": {
      "text/plain": [
       "'The time complexity is O(N) because we visit each node once \\nin a Depth-First Search (DFS) traversal. Since every node is processed \\nand added to a path exactly once, the total work done \\nis proportional to the number of nodes.\\nThe space complexity is O(N) in the worst case due to recursive \\ncalls and storing paths. In a balanced tree, the recursion depth is O(log N)\\n'"
      ]
     },
     "execution_count": 4,
     "metadata": {},
     "output_type": "execute_result"
    }
   ],
   "source": [
    "# Your answer \n",
    "'''The time complexity is O(N) because we visit each node once \n",
    "in a Depth-First Search (DFS) traversal. Since every node is processed \n",
    "and added to a path exactly once, the total work done \n",
    "is proportional to the number of nodes.\n",
    "The space complexity is O(N) in the worst case due to recursive \n",
    "calls and storing paths. In a balanced tree, the recursion depth is O(log N)\n",
    "'''"
   ]
  },
  {
   "cell_type": "markdown",
   "metadata": {},
   "source": [
    "\n",
    "-   Critique your partner's solution, including explanation, and if there is anything that should be adjusted.\n"
   ]
  },
  {
   "cell_type": "code",
   "execution_count": null,
   "metadata": {},
   "outputs": [
    {
     "data": {
      "text/plain": [
       "'My partner’s solution correctly uses Depth-First Search (DFS)\\n to find all root-to-leaf paths. \\n Sometin that should be adjusted: The function names are fine, but dfs could \\n be named something more descriptive\\n\\n '"
      ]
     },
     "execution_count": 6,
     "metadata": {},
     "output_type": "execute_result"
    }
   ],
   "source": [
    "# Your answer here\n",
    "'''My partner’s solution correctly uses Depth-First Search (DFS)\n",
    " to find all root-to-leaf paths. \n",
    " Something that should be adjusted: The function names are fine, but dfs could \n",
    " be named something more descriptive\n",
    "\n",
    " '''\n"
   ]
  },
  {
   "cell_type": "markdown",
   "metadata": {},
   "source": [
    "\n",
    "## Part 3:\n",
    "\n",
    "Please write a 200 word reflection documenting your process from assignment 1, and your presentation and review experience with your partner at the bottom of the Jupyter Notebook under a new heading \"Reflection.\" Again, export this Notebook as pdf.\n"
   ]
  },
  {
   "cell_type": "markdown",
   "metadata": {},
   "source": [
    "### Reflection"
   ]
  },
  {
   "cell_type": "code",
   "execution_count": null,
   "metadata": {},
   "outputs": [],
   "source": [
    "# Your answer here"
   ]
  },
  {
   "cell_type": "markdown",
   "metadata": {},
   "source": [
    "This assignment was an interesting exercise in understanding what professors and teaching assistants go through when evaluating assignments.    \n",
    "\n",
    "I realized that reading and understanding someone else’s code is not always straightforward, especially when trying to figure out their thought process. Reviewing my partner’s work also helped me see that there are multiple ways to solve the same problem in coding, which is great because it allows for flexibility.  \n",
    "  \n",
    "My process for Assignment 1 was not seamless—I had to do a lot of research and re-read the examples multiple times to fully understand what was being asked. While working on my solution, I learned important concepts like recursion, time complexity, and space complexity, even though these were covered in class. I found that actually applying them in code helped solidify my understanding. Additionally, I had to spend time understanding why BFS was better than DFS for my specific problem and why using a queue made sense in that context.    \n",
    "\n",
    "Assignment 2 felt slightly easier because it was based on Assignment 1, but it still required a lot of thought when reviewing my partner’s work. Watching recorded lectures helped me verify if my solutions were on the right track. Overall, this experience was a great opportunity to learn from my classmate, reinforce key coding concepts, and improve my ability to analyze and critique code."
   ]
  },
  {
   "cell_type": "markdown",
   "metadata": {},
   "source": [
    "\n",
    "## Evaluation Criteria\n",
    "\n",
    "We are looking for the similar points as Assignment 1\n",
    "\n",
    "-   Problem is accurately stated\n",
    "\n",
    "-   New example is correct and easily understandable\n",
    "\n",
    "-   Correctness, time, and space complexity of the coding solution\n",
    "\n",
    "-   Clarity in explaining why the solution works, its time and space complexity\n",
    "\n",
    "-   Quality of critique of your partner's assignment, if necessary\n"
   ]
  },
  {
   "cell_type": "markdown",
   "metadata": {},
   "source": [
    "## Submission Information\n",
    "\n",
    "🚨 **Please review our [Assignment Submission Guide](https://github.com/UofT-DSI/onboarding/blob/main/onboarding_documents/submissions.md)** 🚨 for detailed instructions on how to format, branch, and submit your work. Following these guidelines is crucial for your submissions to be evaluated correctly.\n",
    "\n",
    "### Submission Parameters:\n",
    "* Submission Due Date: `HH:MM AM/PM - DD/MM/YYYY`\n",
    "* The branch name for your repo should be: `assignment-2`\n",
    "* What to submit for this assignment:\n",
    "    * This Jupyter Notebook (assignment_2.ipynb) should be populated and should be the only change in your pull request.\n",
    "* What the pull request link should look like for this assignment: `https://github.com/<your_github_username>/algorithms_and_data_structures/pull/<pr_id>`\n",
    "    * Open a private window in your browser. Copy and paste the link to your pull request into the address bar. Make sure you can see your pull request properly. This helps the technical facilitator and learning support staff review your submission easily.\n",
    "\n",
    "Checklist:\n",
    "- [ ] Created a branch with the correct naming convention.\n",
    "- [ ] Ensured that the repository is public.\n",
    "- [ ] Reviewed the PR description guidelines and adhered to them.\n",
    "- [ ] Verify that the link is accessible in a private browser window.\n",
    "\n",
    "If you encounter any difficulties or have questions, please don't hesitate to reach out to our team via our Slack at `#cohort-3-help`. Our Technical Facilitators and Learning Support staff are here to help you navigate any challenges.\n"
   ]
  }
 ],
 "metadata": {
  "kernelspec": {
   "display_name": "dsi_participant",
   "language": "python",
   "name": "python3"
  },
  "language_info": {
   "codemirror_mode": {
    "name": "ipython",
    "version": 3
   },
   "file_extension": ".py",
   "mimetype": "text/x-python",
   "name": "python",
   "nbconvert_exporter": "python",
   "pygments_lexer": "ipython3",
   "version": "3.9.15"
  }
 },
 "nbformat": 4,
 "nbformat_minor": 2
}
